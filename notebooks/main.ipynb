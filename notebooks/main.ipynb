{
 "cells": [
  {
   "cell_type": "markdown",
   "metadata": {},
   "source": [
    "# Links to Datasets:"
   ]
  },
  {
   "cell_type": "code",
   "execution_count": 1,
   "metadata": {},
   "outputs": [],
   "source": [
    "PATH_EIVP_DATASET_MESURES = \"../data/EIVP_DATASET_MESURES.xlsx\"\n",
    "PATH_METEO = \"../data/donnees-synop-essentielles-omm.xlsx\""
   ]
  },
  {
   "cell_type": "markdown",
   "metadata": {},
   "source": [
    "# Main imports"
   ]
  },
  {
   "cell_type": "code",
   "execution_count": null,
   "metadata": {},
   "outputs": [],
   "source": [
    "%pip install openpyxl"
   ]
  },
  {
   "cell_type": "code",
   "execution_count": 8,
   "metadata": {},
   "outputs": [],
   "source": [
    "# ----------------------------------- Utils ---------------------------------- #\n",
    "from datetime import datetime\n",
    "from pprint import pprint\n",
    "import matplotlib.pyplot as plt\n",
    "\n",
    "# ------------------------------- Data Analysis ------------------------------ #\n",
    "import pandas as pd\n",
    "\n",
    "# --------------------------- Prediction utils libs -------------------------- #\n",
    "import autosklearn.regression\n",
    "\n",
    "# --------------------------------- eval libs -------------------------------- #\n",
    "import sklearn.metrics"
   ]
  },
  {
   "cell_type": "markdown",
   "metadata": {},
   "source": [
    "# Load and create Dataset"
   ]
  },
  {
   "cell_type": "markdown",
   "metadata": {},
   "source": [
    "prepare EIVP data"
   ]
  },
  {
   "cell_type": "code",
   "execution_count": 9,
   "metadata": {},
   "outputs": [],
   "source": [
    "# ----------------------------------- load ----------------------------------- #\n",
    "eivp = pd.read_excel(PATH_EIVP_DATASET_MESURES)\n",
    "# ----------------------------- imp columns opnly ---------------------------- #\n",
    "columns_of_interest_eivp=[\n",
    "    \"humidity\",\n",
    "    \"lum\",\n",
    "    \"temp\",\n",
    "    \"co2\",\n",
    "    # \"hpa\",\n",
    "    \"sent_at\",\n",
    "]\n",
    "eivp = eivp[columns_of_interest_eivp]\n",
    "# ------------------------------ set date column ----------------------------- #\n",
    "eivp['sent_at'] = pd.to_datetime(eivp['sent_at'])\n",
    "eivp = eivp.rename(columns={'sent_at': 'Date'}) # rename column to Date\n",
    "eivp = eivp.set_index('Date')\n",
    "# --------------------------------- Resample --------------------------------- #\n",
    "eivp = eivp.resample('3H', origin=datetime.strptime('2021-04-13 17:00:00', \"%Y-%m-%d %H:%M:%S\")).mean()"
   ]
  },
  {
   "cell_type": "markdown",
   "metadata": {},
   "source": [
    "prepare Meteo data"
   ]
  },
  {
   "cell_type": "code",
   "execution_count": 10,
   "metadata": {},
   "outputs": [],
   "source": [
    "# ----------------------------------- load ----------------------------------- #\n",
    "meteo = pd.read_excel(PATH_METEO)\n",
    "# ------------------------- filter important columns ------------------------- #\n",
    "columns_of_interest_meteo=[\n",
    "    \"Date\",\n",
    "    # \"Pression au niveau mer\",\n",
    "    \"Direction du vent moyen 10 mn\",\n",
    "    \"Vitesse du vent moyen 10 mn\",\n",
    "    # \"TempÃ©rature\",\n",
    "    \"HumiditÃ©\",\n",
    "    \"Pression station\",\n",
    "    \"TempÃ©rature (Â°C)\",\n",
    "]\n",
    "meteo = meteo[columns_of_interest_meteo]\n",
    "# ------------------------------ set date column ----------------------------- #\n",
    "meteo[\"Date\"] = pd.to_datetime(meteo[\"Date\"])\n",
    "meteo['Date'] = meteo['Date'].dt.tz_localize(None)"
   ]
  },
  {
   "cell_type": "markdown",
   "metadata": {},
   "source": [
    "Merge data"
   ]
  },
  {
   "cell_type": "code",
   "execution_count": 11,
   "metadata": {},
   "outputs": [],
   "source": [
    "data = eivp.merge(meteo, on='Date')"
   ]
  },
  {
   "cell_type": "markdown",
   "metadata": {},
   "source": [
    "# Split data"
   ]
  },
  {
   "cell_type": "markdown",
   "metadata": {},
   "source": [
    "It is important to split the data using the date to guarantee no Bias in any of the models. The dimensionality of the data is high (in comparission to its length) and the models might overfit to the data points."
   ]
  },
  {
   "cell_type": "markdown",
   "metadata": {},
   "source": [
    "Lets say we take 80% of the data for training and 20% for testing."
   ]
  },
  {
   "cell_type": "code",
   "execution_count": 12,
   "metadata": {},
   "outputs": [],
   "source": [
    "train_ratio = 0.8\n",
    "l_train = int(len(data)*train_ratio)\n",
    "train, test = data[:l_train], data[l_train:]"
   ]
  },
  {
   "cell_type": "markdown",
   "metadata": {},
   "source": [
    "# Shallow approach"
   ]
  },
  {
   "cell_type": "markdown",
   "metadata": {},
   "source": [
    "- In this shallow approach, there will be no consideration for :\n",
    "    - Sequentiality of data\n",
    "    - Time-series nature of data\n",
    "        - Problem will be treated as a tabular data with no date information \n",
    "    "
   ]
  },
  {
   "cell_type": "code",
   "execution_count": 13,
   "metadata": {},
   "outputs": [],
   "source": [
    "target = ['temp']"
   ]
  },
  {
   "cell_type": "code",
   "execution_count": 14,
   "metadata": {},
   "outputs": [],
   "source": [
    "x_train, y_train = train.drop(columns=target + [\"Date\"]).to_numpy(), train[target].to_numpy()\n",
    "x_test, y_test = test.drop(columns=target + [\"Date\"]).to_numpy(), test[target].to_numpy()"
   ]
  },
  {
   "cell_type": "markdown",
   "metadata": {},
   "source": [
    "Using Auto ML"
   ]
  },
  {
   "cell_type": "code",
   "execution_count": 31,
   "metadata": {},
   "outputs": [
    {
     "name": "stderr",
     "output_type": "stream",
     "text": [
      "/home/mus5900/anaconda3/envs/machine_learning/lib/python3.9/site-packages/autosklearn/metalearning/metalearning/meta_base.py:68: FutureWarning: The frame.append method is deprecated and will be removed from pandas in a future version. Use pandas.concat instead.\n",
      "  self.metafeatures = self.metafeatures.append(metafeatures)\n",
      "/home/mus5900/anaconda3/envs/machine_learning/lib/python3.9/site-packages/autosklearn/metalearning/metalearning/meta_base.py:72: FutureWarning: The frame.append method is deprecated and will be removed from pandas in a future version. Use pandas.concat instead.\n",
      "  self.algorithm_runs[metric].append(runs)\n"
     ]
    },
    {
     "data": {
      "text/plain": [
       "AutoSklearnRegressor(per_run_time_limit=30, time_left_for_this_task=1200,\n",
       "                     tmp_folder='../tmp/autosklearn_regression_example_tmp')"
      ]
     },
     "execution_count": 31,
     "metadata": {},
     "output_type": "execute_result"
    }
   ],
   "source": [
    "automl = autosklearn.regression.AutoSklearnRegressor(\n",
    "    time_left_for_this_task=1200, # 20 minutes\n",
    "    per_run_time_limit=30,\n",
    "    tmp_folder='../tmp/autosklearn_regression_example_tmp',\n",
    ")\n",
    "automl.fit(x_train, y_train, dataset_name='EIVP Temperature')"
   ]
  },
  {
   "cell_type": "code",
   "execution_count": 32,
   "metadata": {},
   "outputs": [
    {
     "name": "stdout",
     "output_type": "stream",
     "text": [
      "          rank  ensemble_weight               type      cost  duration\n",
      "model_id                                                              \n",
      "362          1             0.02                sgd  0.133228  0.436981\n",
      "151          2             0.40                sgd  0.133799  0.427536\n",
      "8            3             0.26  gradient_boosting  0.151134  0.832347\n",
      "3            4             0.32   gaussian_process  0.154624  0.782750\n"
     ]
    }
   ],
   "source": [
    "print(automl.leaderboard())"
   ]
  },
  {
   "cell_type": "code",
   "execution_count": 33,
   "metadata": {},
   "outputs": [
    {
     "name": "stdout",
     "output_type": "stream",
     "text": [
      "{   3: {   'cost': 0.15462383814903236,\n",
      "           'data_preprocessor': <autosklearn.pipeline.components.data_preprocessing.DataPreprocessorChoice object at 0x7f847acbfb20>,\n",
      "           'ensemble_weight': 0.32,\n",
      "           'feature_preprocessor': <autosklearn.pipeline.components.feature_preprocessing.FeaturePreprocessorChoice object at 0x7f84355bd160>,\n",
      "           'model_id': 3,\n",
      "           'rank': 4,\n",
      "           'regressor': <autosklearn.pipeline.components.regression.RegressorChoice object at 0x7f84355bdb80>,\n",
      "           'sklearn_regressor': GaussianProcessRegressor(alpha=0.037731974209709904,\n",
      "                         kernel=RBF(length_scale=[1, 1, 1, 1, 1, 1, 1, 1, 1, 1, 1, 1, 1, 1, 1, 1, 1, 1, 1, 1, 1, 1, 1, 1, 1, 1, 1, 1, 1, 1, 1, 1, 1, 1, 1, 1, 1]),\n",
      "                         n_restarts_optimizer=10, normalize_y=True,\n",
      "                         random_state=1)},\n",
      "    8: {   'cost': 0.15113398220562424,\n",
      "           'data_preprocessor': <autosklearn.pipeline.components.data_preprocessing.DataPreprocessorChoice object at 0x7f8429bac670>,\n",
      "           'ensemble_weight': 0.26,\n",
      "           'feature_preprocessor': <autosklearn.pipeline.components.feature_preprocessing.FeaturePreprocessorChoice object at 0x7f8429a0b340>,\n",
      "           'model_id': 8,\n",
      "           'rank': 3,\n",
      "           'regressor': <autosklearn.pipeline.components.regression.RegressorChoice object at 0x7f8429a0be50>,\n",
      "           'sklearn_regressor': HistGradientBoostingRegressor(l2_regularization=0.0018018055158809108,\n",
      "                              learning_rate=0.05048450688348591, max_iter=512,\n",
      "                              max_leaf_nodes=3, min_samples_leaf=1,\n",
      "                              n_iter_no_change=19, random_state=1,\n",
      "                              validation_fraction=0.19819612428903174,\n",
      "                              warm_start=True)},\n",
      "    151: {   'cost': 0.13379896040458228,\n",
      "             'data_preprocessor': <autosklearn.pipeline.components.data_preprocessing.DataPreprocessorChoice object at 0x7f8437201070>,\n",
      "             'ensemble_weight': 0.4,\n",
      "             'feature_preprocessor': <autosklearn.pipeline.components.feature_preprocessing.FeaturePreprocessorChoice object at 0x7f8429c95d90>,\n",
      "             'model_id': 151,\n",
      "             'rank': 2,\n",
      "             'regressor': <autosklearn.pipeline.components.regression.RegressorChoice object at 0x7f8429c95ac0>,\n",
      "             'sklearn_regressor': SGDRegressor(alpha=0.00038722794339924124, epsilon=0.07002309315484263,\n",
      "             eta0=0.001993363744566669, learning_rate='constant',\n",
      "             loss='squared_epsilon_insensitive', max_iter=256, power_t=0.5,\n",
      "             random_state=1, tol=1.568976190351849e-05, warm_start=True)},\n",
      "    362: {   'cost': 0.13322778273416214,\n",
      "             'data_preprocessor': <autosklearn.pipeline.components.data_preprocessing.DataPreprocessorChoice object at 0x7f8429bac790>,\n",
      "             'ensemble_weight': 0.02,\n",
      "             'feature_preprocessor': <autosklearn.pipeline.components.feature_preprocessing.FeaturePreprocessorChoice object at 0x7f8429bacd60>,\n",
      "             'model_id': 362,\n",
      "             'rank': 1,\n",
      "             'regressor': <autosklearn.pipeline.components.regression.RegressorChoice object at 0x7f8429bacf40>,\n",
      "             'sklearn_regressor': SGDRegressor(alpha=0.00045788221560054545, epsilon=0.0007782093365239167,\n",
      "             eta0=0.0019568163668922203, learning_rate='constant',\n",
      "             loss='squared_epsilon_insensitive', max_iter=256, power_t=0.5,\n",
      "             random_state=1, tol=1.9869191885384703e-05, warm_start=True)}}\n"
     ]
    }
   ],
   "source": [
    "pprint(automl.show_models(), indent=4)"
   ]
  },
  {
   "cell_type": "code",
   "execution_count": 34,
   "metadata": {},
   "outputs": [
    {
     "name": "stdout",
     "output_type": "stream",
     "text": [
      "Train :\n",
      "\t R2 score: 0.9360267738497742\n",
      "\t MAE: 0.2775267697400366\n",
      "\t RMSE: 0.1301828479808267\n",
      "Test :\n",
      "\t R2 score: 0.010727608804410371\n",
      "\t MAE: 1.1704231293439264\n",
      "\t RMSE: 2.2474090269848133\n"
     ]
    }
   ],
   "source": [
    "train_predictions = automl.predict(x_train)\n",
    "print(\"Train :\")\n",
    "print(\"\\t R2 score:\", sklearn.metrics.r2_score(y_train, train_predictions))\n",
    "print(\"\\t MAE:\", sklearn.metrics.mean_absolute_error(y_train, train_predictions))\n",
    "print(\"\\t RMSE:\", sklearn.metrics.mean_squared_error(y_train, train_predictions))\n",
    "test_predictions = automl.predict(x_test)\n",
    "print(\"Test :\")\n",
    "print(\"\\t R2 score:\", sklearn.metrics.r2_score(y_test, test_predictions))\n",
    "print(\"\\t MAE:\", sklearn.metrics.mean_absolute_error(y_test, test_predictions))\n",
    "print(\"\\t RMSE:\", sklearn.metrics.mean_squared_error(y_test, test_predictions))"
   ]
  },
  {
   "cell_type": "code",
   "execution_count": 35,
   "metadata": {},
   "outputs": [
    {
     "data": {
      "image/png": "[encoded data removed]",
      "text/plain": [
       "<Figure size 864x576 with 1 Axes>"
      ]
     },
     "metadata": {
      "needs_background": "light"
     },
     "output_type": "display_data"
    }
   ],
   "source": [
    "plt.figure(figsize=(12, 8))\n",
    "plt.scatter(train_predictions, y_train, label=\"Train samples\", c='#d95f02')\n",
    "plt.scatter(test_predictions, y_test, label=\"Test samples\", c='#7570b3')\n",
    "plt.xlabel(\"Predicted value\")\n",
    "plt.ylabel(\"True value\")\n",
    "plt.legend()\n",
    "plt.plot([15, 30], [15, 30], c='k', zorder=0)\n",
    "plt.xlim([15, 30])\n",
    "plt.ylim([15, 30])\n",
    "plt.tight_layout()\n",
    "plt.show()"
   ]
  },
  {
   "cell_type": "code",
   "execution_count": null,
   "metadata": {},
   "outputs": [],
   "source": []
  }
 ],
 "metadata": {
  "interpreter": {
   "hash": "90d5fba511f88753fbe8cec30bbfde487a2bdcc5c4f28b6e83142be88ea44a1a"
  },
  "kernelspec": {
   "display_name": "Python 3.9.7 ('machine_learning')",
   "language": "python",
   "name": "python3"
  },
  "language_info": {
   "codemirror_mode": {
    "name": "ipython",
    "version": 3
   },
   "file_extension": ".py",
   "mimetype": "text/x-python",
   "name": "python",
   "nbconvert_exporter": "python",
   "pygments_lexer": "ipython3",
   "version": "3.9.13"
  },
  "orig_nbformat": 4
 },
 "nbformat": 4,
 "nbformat_minor": 2
}
